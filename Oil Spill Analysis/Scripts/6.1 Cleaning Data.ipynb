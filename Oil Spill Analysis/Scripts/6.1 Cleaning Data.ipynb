{
 "cells": [
  {
   "cell_type": "markdown",
   "id": "ffd9343f",
   "metadata": {},
   "source": [
    "# 01. Importing Libraries"
   ]
  },
  {
   "cell_type": "code",
   "execution_count": 1,
   "id": "a413f5ed",
   "metadata": {},
   "outputs": [],
   "source": [
    "import pandas as pd\n",
    "import numpy as np\n",
    "import os"
   ]
  },
  {
   "cell_type": "markdown",
   "id": "c35250cd",
   "metadata": {},
   "source": [
    "# 02. Importing Data"
   ]
  },
  {
   "cell_type": "code",
   "execution_count": 2,
   "id": "eee7ac9b",
   "metadata": {},
   "outputs": [],
   "source": [
    "path = r'C:\\Users\\byl19\\Acheivment 6\\Acheivment 6'"
   ]
  },
  {
   "cell_type": "code",
   "execution_count": 3,
   "id": "0fd0bb67",
   "metadata": {},
   "outputs": [],
   "source": [
    "df = pd.read_csv(os.path.join(path, '02 Data', 'Original Data', 'Oil-Spills.csv'), index_col = False)"
   ]
  },
  {
   "cell_type": "code",
   "execution_count": 4,
   "id": "090889d7",
   "metadata": {},
   "outputs": [
    {
     "data": {
      "text/plain": [
       "(2795, 48)"
      ]
     },
     "execution_count": 4,
     "metadata": {},
     "output_type": "execute_result"
    }
   ],
   "source": [
    "df.shape"
   ]
  },
  {
   "cell_type": "markdown",
   "id": "dc9914a9",
   "metadata": {},
   "source": [
    "# 03. Exploring Data"
   ]
  },
  {
   "cell_type": "code",
   "execution_count": 85,
   "id": "7a4732a1",
   "metadata": {},
   "outputs": [
    {
     "data": {
      "text/plain": [
       "(2795, 48)"
      ]
     },
     "execution_count": 85,
     "metadata": {},
     "output_type": "execute_result"
    }
   ],
   "source": [
    "df.shape"
   ]
  },
  {
   "cell_type": "code",
   "execution_count": 86,
   "id": "ff159f9b",
   "metadata": {},
   "outputs": [
    {
     "name": "stdout",
     "output_type": "stream",
     "text": [
      "<class 'pandas.core.frame.DataFrame'>\n",
      "RangeIndex: 2795 entries, 0 to 2794\n",
      "Data columns (total 48 columns):\n",
      " #   Column                                Non-Null Count  Dtype  \n",
      "---  ------                                --------------  -----  \n",
      " 0   Report Number                         2795 non-null   int64  \n",
      " 1   Supplemental Number                   2795 non-null   int64  \n",
      " 2   Accident Year                         2795 non-null   int64  \n",
      " 3   Accident Date/Time                    2795 non-null   object \n",
      " 4   Operator ID                           2795 non-null   int64  \n",
      " 5   Operator Name                         2795 non-null   object \n",
      " 6   Pipeline/Facility Name                2674 non-null   object \n",
      " 7   Pipeline Location                     2795 non-null   object \n",
      " 8   Pipeline Type                         2777 non-null   object \n",
      " 9   Liquid Type                           2795 non-null   object \n",
      " 10  Liquid Subtype                        1349 non-null   object \n",
      " 11  Liquid Name                           222 non-null    object \n",
      " 12  Accident City                         2480 non-null   object \n",
      " 13  Accident County                       2720 non-null   object \n",
      " 14  Accident State                        2783 non-null   object \n",
      " 15  Accident Latitude                     2795 non-null   float64\n",
      " 16  Accident Longitude                    2795 non-null   float64\n",
      " 17  Cause Category                        2795 non-null   object \n",
      " 18  Cause Subcategory                     2795 non-null   object \n",
      " 19  Unintentional Release (Barrels)       2795 non-null   float64\n",
      " 20  Intentional Release (Barrels)         1209 non-null   float64\n",
      " 21  Liquid Recovery (Barrels)             2795 non-null   float64\n",
      " 22  Net Loss (Barrels)                    2795 non-null   float64\n",
      " 23  Liquid Ignition                       2795 non-null   object \n",
      " 24  Liquid Explosion                      2795 non-null   object \n",
      " 25  Pipeline Shutdown                     2583 non-null   object \n",
      " 26  Shutdown Date/Time                    1390 non-null   object \n",
      " 27  Restart Date/Time                     1341 non-null   object \n",
      " 28  Public Evacuations                    2338 non-null   float64\n",
      " 29  Operator Employee Injuries            12 non-null     float64\n",
      " 30  Operator Contractor Injuries          12 non-null     float64\n",
      " 31  Emergency Responder Injuries          12 non-null     float64\n",
      " 32  Other Injuries                        12 non-null     float64\n",
      " 33  Public Injuries                       12 non-null     float64\n",
      " 34  All Injuries                          12 non-null     float64\n",
      " 35  Operator Employee Fatalities          8 non-null      float64\n",
      " 36  Operator Contractor Fatalities        8 non-null      float64\n",
      " 37  Emergency Responder Fatalities        8 non-null      float64\n",
      " 38  Other Fatalities                      8 non-null      float64\n",
      " 39  Public Fatalities                     8 non-null      float64\n",
      " 40  All Fatalities                        8 non-null      float64\n",
      " 41  Property Damage Costs                 2788 non-null   float64\n",
      " 42  Lost Commodity Costs                  2791 non-null   float64\n",
      " 43  Public/Private Property Damage Costs  2785 non-null   float64\n",
      " 44  Emergency Response Costs              2789 non-null   float64\n",
      " 45  Environmental Remediation Costs       2787 non-null   float64\n",
      " 46  Other Costs                           2779 non-null   float64\n",
      " 47  All Costs                             2795 non-null   int64  \n",
      "dtypes: float64(25), int64(5), object(18)\n",
      "memory usage: 1.0+ MB\n"
     ]
    }
   ],
   "source": [
    "df.info()"
   ]
  },
  {
   "cell_type": "code",
   "execution_count": 87,
   "id": "a1c3dd44",
   "metadata": {},
   "outputs": [],
   "source": [
    "#deleting unescessary fatality columns\n",
    "df = df.drop(columns=['Operator Employee Fatalities','Operator Contractor Fatalities','Emergency Responder Fatalities','Other Fatalities','Public Fatalities','All Fatalities'])"
   ]
  },
  {
   "cell_type": "code",
   "execution_count": 88,
   "id": "204cfa89",
   "metadata": {},
   "outputs": [],
   "source": [
    "#dropping unnecessary injuries columns\n",
    "df = df.drop(columns=['Operator Employee Injuries','Operator Contractor Injuries','Emergency Responder Injuries','Other Injuries','Public Injuries','All Injuries'])"
   ]
  },
  {
   "cell_type": "code",
   "execution_count": 89,
   "id": "0b7753d3",
   "metadata": {},
   "outputs": [],
   "source": [
    "#dropping any other unnecessary columns\n",
    "df = df.drop(columns = ['Supplemental Number','Liquid Subtype','Liquid Name','Accident Latitude','Accident Longitude'])"
   ]
  },
  {
   "cell_type": "code",
   "execution_count": 90,
   "id": "6d6ab0fd",
   "metadata": {},
   "outputs": [
    {
     "name": "stdout",
     "output_type": "stream",
     "text": [
      "<class 'pandas.core.frame.DataFrame'>\n",
      "RangeIndex: 2795 entries, 0 to 2794\n",
      "Data columns (total 31 columns):\n",
      " #   Column                                Non-Null Count  Dtype  \n",
      "---  ------                                --------------  -----  \n",
      " 0   Report Number                         2795 non-null   int64  \n",
      " 1   Accident Year                         2795 non-null   int64  \n",
      " 2   Accident Date/Time                    2795 non-null   object \n",
      " 3   Operator ID                           2795 non-null   int64  \n",
      " 4   Operator Name                         2795 non-null   object \n",
      " 5   Pipeline/Facility Name                2674 non-null   object \n",
      " 6   Pipeline Location                     2795 non-null   object \n",
      " 7   Pipeline Type                         2777 non-null   object \n",
      " 8   Liquid Type                           2795 non-null   object \n",
      " 9   Accident City                         2480 non-null   object \n",
      " 10  Accident County                       2720 non-null   object \n",
      " 11  Accident State                        2783 non-null   object \n",
      " 12  Cause Category                        2795 non-null   object \n",
      " 13  Cause Subcategory                     2795 non-null   object \n",
      " 14  Unintentional Release (Barrels)       2795 non-null   float64\n",
      " 15  Intentional Release (Barrels)         1209 non-null   float64\n",
      " 16  Liquid Recovery (Barrels)             2795 non-null   float64\n",
      " 17  Net Loss (Barrels)                    2795 non-null   float64\n",
      " 18  Liquid Ignition                       2795 non-null   object \n",
      " 19  Liquid Explosion                      2795 non-null   object \n",
      " 20  Pipeline Shutdown                     2583 non-null   object \n",
      " 21  Shutdown Date/Time                    1390 non-null   object \n",
      " 22  Restart Date/Time                     1341 non-null   object \n",
      " 23  Public Evacuations                    2338 non-null   float64\n",
      " 24  Property Damage Costs                 2788 non-null   float64\n",
      " 25  Lost Commodity Costs                  2791 non-null   float64\n",
      " 26  Public/Private Property Damage Costs  2785 non-null   float64\n",
      " 27  Emergency Response Costs              2789 non-null   float64\n",
      " 28  Environmental Remediation Costs       2787 non-null   float64\n",
      " 29  Other Costs                           2779 non-null   float64\n",
      " 30  All Costs                             2795 non-null   int64  \n",
      "dtypes: float64(11), int64(4), object(16)\n",
      "memory usage: 677.0+ KB\n"
     ]
    }
   ],
   "source": [
    "df.info()"
   ]
  },
  {
   "cell_type": "code",
   "execution_count": 91,
   "id": "478ceba1",
   "metadata": {},
   "outputs": [
    {
     "name": "stdout",
     "output_type": "stream",
     "text": [
      "Pipeline/Facility Name\n",
      "Pipeline Type\n",
      "Accident City\n",
      "Accident County\n",
      "Accident State\n",
      "Pipeline Shutdown\n",
      "Shutdown Date/Time\n",
      "Restart Date/Time\n"
     ]
    }
   ],
   "source": [
    "#checking for mixed-type data\n",
    "for col in df.columns.tolist():\n",
    "  weird = (df[[col]].applymap(type) != df[[col]].iloc[0].apply(type)).any(axis = 1)\n",
    "  if len (df[weird]) > 0:\n",
    "    print (col)"
   ]
  },
  {
   "cell_type": "code",
   "execution_count": 92,
   "id": "d43261da",
   "metadata": {},
   "outputs": [
    {
     "data": {
      "text/plain": [
       "WYOMING PIPELINE COMPANY            20\n",
       "CUSHING TERMINAL                    18\n",
       "CORSICANA STATION                   18\n",
       "LINDEN STATION                      15\n",
       "CARTERET TERMINAL                   14\n",
       "                                    ..\n",
       "212 METER RUN AT CONWAY STORAGE      1\n",
       "COLTON SOUTH TERMINAL                1\n",
       "HWY. 90 VALVE SITE                   1\n",
       "AURORA PUMP STATION                  1\n",
       "MARSHALL STATION                     1\n",
       "Name: Pipeline/Facility Name, Length: 1977, dtype: int64"
      ]
     },
     "execution_count": 92,
     "metadata": {},
     "output_type": "execute_result"
    }
   ],
   "source": [
    "#fixing mixed-type data\n",
    "df['Pipeline/Facility Name'].value_counts()"
   ]
  },
  {
   "cell_type": "code",
   "execution_count": 93,
   "id": "7ab344c0",
   "metadata": {},
   "outputs": [],
   "source": [
    "df['Pipeline/Facility Name'] = df['Pipeline/Facility Name'].astype('str')"
   ]
  },
  {
   "cell_type": "code",
   "execution_count": 94,
   "id": "b703b563",
   "metadata": {},
   "outputs": [
    {
     "data": {
      "text/plain": [
       "ABOVEGROUND        1475\n",
       "UNDERGROUND         985\n",
       "TANK                301\n",
       "TRANSITION AREA      16\n",
       "Name: Pipeline Type, dtype: int64"
      ]
     },
     "execution_count": 94,
     "metadata": {},
     "output_type": "execute_result"
    }
   ],
   "source": [
    "#pipeline type fix\n",
    "df['Pipeline Type'].value_counts()"
   ]
  },
  {
   "cell_type": "code",
   "execution_count": 95,
   "id": "447f06fd",
   "metadata": {},
   "outputs": [],
   "source": [
    "df['Pipeline Type'] = df['Pipeline Type'].astype('str')"
   ]
  },
  {
   "cell_type": "code",
   "execution_count": 96,
   "id": "b7694ecb",
   "metadata": {},
   "outputs": [
    {
     "data": {
      "text/plain": [
       "CUSHING      78\n",
       "PASADENA     70\n",
       "HOUSTON      50\n",
       "MIDLAND      45\n",
       "BEAUMONT     35\n",
       "             ..\n",
       "ATHENS        1\n",
       "PIEDMONT      1\n",
       "SPOKANE       1\n",
       "POCATELLO     1\n",
       "GONZALES      1\n",
       "Name: Accident City, Length: 1027, dtype: int64"
      ]
     },
     "execution_count": 96,
     "metadata": {},
     "output_type": "execute_result"
    }
   ],
   "source": [
    "#accident city fix\n",
    "df['Accident City'].value_counts()"
   ]
  },
  {
   "cell_type": "code",
   "execution_count": 97,
   "id": "029fea79",
   "metadata": {},
   "outputs": [],
   "source": [
    "df['Accident City'] = df['Accident City'].astype('str')"
   ]
  },
  {
   "cell_type": "code",
   "execution_count": 98,
   "id": "86cecc67",
   "metadata": {},
   "outputs": [],
   "source": [
    "#accident county fix\n",
    "df['Accident County'] = df['Accident County'].astype('str')"
   ]
  },
  {
   "cell_type": "code",
   "execution_count": 99,
   "id": "a8cfdf91",
   "metadata": {},
   "outputs": [],
   "source": [
    "#accient state fix\n",
    "df['Accident State'] = df['Accident State'].astype('str')"
   ]
  },
  {
   "cell_type": "code",
   "execution_count": 100,
   "id": "3f51b1e1",
   "metadata": {},
   "outputs": [
    {
     "data": {
      "text/plain": [
       "YES    1395\n",
       "NO     1188\n",
       "Name: Pipeline Shutdown, dtype: int64"
      ]
     },
     "execution_count": 100,
     "metadata": {},
     "output_type": "execute_result"
    }
   ],
   "source": [
    "#pipeline shutdown fix\n",
    "df['Pipeline Shutdown'].value_counts()"
   ]
  },
  {
   "cell_type": "code",
   "execution_count": 101,
   "id": "d5dcbdeb",
   "metadata": {},
   "outputs": [],
   "source": [
    "df['Pipeline Shutdown'] = df['Pipeline Shutdown'].map({'YES':True ,'NO':False})"
   ]
  },
  {
   "cell_type": "code",
   "execution_count": 102,
   "id": "fe9ad564",
   "metadata": {},
   "outputs": [
    {
     "data": {
      "text/plain": [
       "True     1395\n",
       "False    1188\n",
       "Name: Pipeline Shutdown, dtype: int64"
      ]
     },
     "execution_count": 102,
     "metadata": {},
     "output_type": "execute_result"
    }
   ],
   "source": [
    "df['Pipeline Shutdown'].value_counts()"
   ]
  },
  {
   "cell_type": "code",
   "execution_count": 103,
   "id": "1cd53068",
   "metadata": {},
   "outputs": [],
   "source": [
    "df['Pipeline Shutdown'] = df['Pipeline Shutdown'].astype('bool')"
   ]
  },
  {
   "cell_type": "code",
   "execution_count": 6,
   "id": "a92a2ab0",
   "metadata": {},
   "outputs": [
    {
     "data": {
      "text/plain": [
       "False    2700\n",
       "True       95\n",
       "Name: Liquid Ignition, dtype: int64"
      ]
     },
     "execution_count": 6,
     "metadata": {},
     "output_type": "execute_result"
    }
   ],
   "source": [
    "#changing yes no columns to True False\n",
    "df['Liquid Ignition'].value_counts()"
   ]
  },
  {
   "cell_type": "code",
   "execution_count": 5,
   "id": "a3cef101",
   "metadata": {},
   "outputs": [],
   "source": [
    "df['Liquid Ignition'] = df['Liquid Ignition'].map({'YES':True ,'NO':False})"
   ]
  },
  {
   "cell_type": "code",
   "execution_count": 10,
   "id": "c11b0599",
   "metadata": {},
   "outputs": [],
   "source": [
    "df['Liquid Ignition'] = df['Liquid Ignition'].astype('bool')"
   ]
  },
  {
   "cell_type": "code",
   "execution_count": 9,
   "id": "3c9d97ee",
   "metadata": {},
   "outputs": [
    {
     "data": {
      "text/plain": [
       "False    2780\n",
       "True       15\n",
       "Name: Liquid Explosion, dtype: int64"
      ]
     },
     "execution_count": 9,
     "metadata": {},
     "output_type": "execute_result"
    }
   ],
   "source": [
    "df['Liquid Explosion'].value_counts()"
   ]
  },
  {
   "cell_type": "code",
   "execution_count": 8,
   "id": "073e688c",
   "metadata": {},
   "outputs": [],
   "source": [
    "df['Liquid Explosion'] = df['Liquid Explosion'].map({'YES':True ,'NO':False})"
   ]
  },
  {
   "cell_type": "code",
   "execution_count": 11,
   "id": "d6ff2eb1",
   "metadata": {},
   "outputs": [],
   "source": [
    "df['Liquid Explosion'] = df['Liquid Explosion'].astype('bool')"
   ]
  },
  {
   "cell_type": "code",
   "execution_count": 105,
   "id": "2c7e4d37",
   "metadata": {},
   "outputs": [
    {
     "data": {
      "text/plain": [
       "9/20/2011 6:50     2\n",
       "9/27/2013 11:30    2\n",
       "3/11/2015 19:20    2\n",
       "12/28/2013 9:30    2\n",
       "5/6/2016 14:56     2\n",
       "                  ..\n",
       "9/16/2010 13:41    1\n",
       "6/1/2015 2:28      1\n",
       "9/4/2014 6:40      1\n",
       "6/4/2010 11:25     1\n",
       "12/27/2016 8:54    1\n",
       "Name: Shutdown Date/Time, Length: 1385, dtype: int64"
      ]
     },
     "execution_count": 105,
     "metadata": {},
     "output_type": "execute_result"
    }
   ],
   "source": [
    "#shutdown date/time fix\n",
    "df['Shutdown Date/Time'].value_counts()"
   ]
  },
  {
   "cell_type": "code",
   "execution_count": 106,
   "id": "3e5b0b3d",
   "metadata": {},
   "outputs": [],
   "source": [
    "df['Shutdown Date/Time'] = df['Shutdown Date/Time'].astype('str')"
   ]
  },
  {
   "cell_type": "code",
   "execution_count": 109,
   "id": "10862aa4",
   "metadata": {},
   "outputs": [],
   "source": [
    "#restart date/time fix\n",
    "df['Restart Date/Time'] = df['Restart Date/Time'].astype('str')"
   ]
  },
  {
   "cell_type": "code",
   "execution_count": 110,
   "id": "583ec61c",
   "metadata": {},
   "outputs": [],
   "source": [
    "#double checking for mixed-type data\n",
    "for col in df.columns.tolist():\n",
    "  weird = (df[[col]].applymap(type) != df[[col]].iloc[0].apply(type)).any(axis = 1)\n",
    "  if len (df[weird]) > 0:\n",
    "    print (col)"
   ]
  },
  {
   "cell_type": "code",
   "execution_count": 111,
   "id": "13a6df4a",
   "metadata": {},
   "outputs": [
    {
     "data": {
      "text/plain": [
       "Report Number                              0\n",
       "Accident Year                              0\n",
       "Accident Date/Time                         0\n",
       "Operator ID                                0\n",
       "Operator Name                              0\n",
       "Pipeline/Facility Name                     0\n",
       "Pipeline Location                          0\n",
       "Pipeline Type                              0\n",
       "Liquid Type                                0\n",
       "Accident City                              0\n",
       "Accident County                            0\n",
       "Accident State                             0\n",
       "Cause Category                             0\n",
       "Cause Subcategory                          0\n",
       "Unintentional Release (Barrels)            0\n",
       "Intentional Release (Barrels)           1586\n",
       "Liquid Recovery (Barrels)                  0\n",
       "Net Loss (Barrels)                         0\n",
       "Liquid Ignition                            0\n",
       "Liquid Explosion                           0\n",
       "Pipeline Shutdown                          0\n",
       "Shutdown Date/Time                         0\n",
       "Restart Date/Time                          0\n",
       "Public Evacuations                       457\n",
       "Property Damage Costs                      7\n",
       "Lost Commodity Costs                       4\n",
       "Public/Private Property Damage Costs      10\n",
       "Emergency Response Costs                   6\n",
       "Environmental Remediation Costs            8\n",
       "Other Costs                               16\n",
       "All Costs                                  0\n",
       "dtype: int64"
      ]
     },
     "execution_count": 111,
     "metadata": {},
     "output_type": "execute_result"
    }
   ],
   "source": [
    "#checking missing values\n",
    "df.isnull().sum()"
   ]
  },
  {
   "cell_type": "code",
   "execution_count": 113,
   "id": "fb27cd9e",
   "metadata": {},
   "outputs": [],
   "source": [
    "df['Intentional Release (Barrels)'].fillna(0, inplace=True)"
   ]
  },
  {
   "cell_type": "code",
   "execution_count": 115,
   "id": "ff363250",
   "metadata": {},
   "outputs": [],
   "source": [
    "df['Public Evacuations'].fillna(0, inplace=True)"
   ]
  },
  {
   "cell_type": "code",
   "execution_count": 116,
   "id": "fab0a639",
   "metadata": {},
   "outputs": [],
   "source": [
    "df['Property Damage Costs'].fillna(0, inplace=True)"
   ]
  },
  {
   "cell_type": "code",
   "execution_count": 117,
   "id": "e6125fa7",
   "metadata": {},
   "outputs": [],
   "source": [
    "df['Lost Commodity Costs'].fillna(0, inplace=True)"
   ]
  },
  {
   "cell_type": "code",
   "execution_count": 118,
   "id": "e8ef0828",
   "metadata": {},
   "outputs": [],
   "source": [
    "df['Public/Private Property Damage Costs'].fillna(0, inplace=True)"
   ]
  },
  {
   "cell_type": "code",
   "execution_count": 119,
   "id": "dc89bc40",
   "metadata": {},
   "outputs": [],
   "source": [
    "df['Emergency Response Costs'].fillna(0, inplace=True)"
   ]
  },
  {
   "cell_type": "code",
   "execution_count": 120,
   "id": "20d81ac4",
   "metadata": {},
   "outputs": [],
   "source": [
    "df['Environmental Remediation Costs'].fillna(0, inplace=True)"
   ]
  },
  {
   "cell_type": "code",
   "execution_count": 121,
   "id": "fe3a33d3",
   "metadata": {},
   "outputs": [],
   "source": [
    "df['Other Costs'].fillna(0, inplace=True)"
   ]
  },
  {
   "cell_type": "code",
   "execution_count": 122,
   "id": "aaeabf81",
   "metadata": {},
   "outputs": [
    {
     "data": {
      "text/plain": [
       "Report Number                           0\n",
       "Accident Year                           0\n",
       "Accident Date/Time                      0\n",
       "Operator ID                             0\n",
       "Operator Name                           0\n",
       "Pipeline/Facility Name                  0\n",
       "Pipeline Location                       0\n",
       "Pipeline Type                           0\n",
       "Liquid Type                             0\n",
       "Accident City                           0\n",
       "Accident County                         0\n",
       "Accident State                          0\n",
       "Cause Category                          0\n",
       "Cause Subcategory                       0\n",
       "Unintentional Release (Barrels)         0\n",
       "Intentional Release (Barrels)           0\n",
       "Liquid Recovery (Barrels)               0\n",
       "Net Loss (Barrels)                      0\n",
       "Liquid Ignition                         0\n",
       "Liquid Explosion                        0\n",
       "Pipeline Shutdown                       0\n",
       "Shutdown Date/Time                      0\n",
       "Restart Date/Time                       0\n",
       "Public Evacuations                      0\n",
       "Property Damage Costs                   0\n",
       "Lost Commodity Costs                    0\n",
       "Public/Private Property Damage Costs    0\n",
       "Emergency Response Costs                0\n",
       "Environmental Remediation Costs         0\n",
       "Other Costs                             0\n",
       "All Costs                               0\n",
       "dtype: int64"
      ]
     },
     "execution_count": 122,
     "metadata": {},
     "output_type": "execute_result"
    }
   ],
   "source": [
    "df.isnull().sum()"
   ]
  },
  {
   "cell_type": "code",
   "execution_count": 123,
   "id": "caacc3cb",
   "metadata": {},
   "outputs": [],
   "source": [
    "#finding duplicates\n",
    "df_dups = df[df.duplicated()]"
   ]
  },
  {
   "cell_type": "code",
   "execution_count": 124,
   "id": "87b8c180",
   "metadata": {},
   "outputs": [
    {
     "data": {
      "text/html": [
       "<div>\n",
       "<style scoped>\n",
       "    .dataframe tbody tr th:only-of-type {\n",
       "        vertical-align: middle;\n",
       "    }\n",
       "\n",
       "    .dataframe tbody tr th {\n",
       "        vertical-align: top;\n",
       "    }\n",
       "\n",
       "    .dataframe thead th {\n",
       "        text-align: right;\n",
       "    }\n",
       "</style>\n",
       "<table border=\"1\" class=\"dataframe\">\n",
       "  <thead>\n",
       "    <tr style=\"text-align: right;\">\n",
       "      <th></th>\n",
       "      <th>Report Number</th>\n",
       "      <th>Accident Year</th>\n",
       "      <th>Accident Date/Time</th>\n",
       "      <th>Operator ID</th>\n",
       "      <th>Operator Name</th>\n",
       "      <th>Pipeline/Facility Name</th>\n",
       "      <th>Pipeline Location</th>\n",
       "      <th>Pipeline Type</th>\n",
       "      <th>Liquid Type</th>\n",
       "      <th>Accident City</th>\n",
       "      <th>...</th>\n",
       "      <th>Shutdown Date/Time</th>\n",
       "      <th>Restart Date/Time</th>\n",
       "      <th>Public Evacuations</th>\n",
       "      <th>Property Damage Costs</th>\n",
       "      <th>Lost Commodity Costs</th>\n",
       "      <th>Public/Private Property Damage Costs</th>\n",
       "      <th>Emergency Response Costs</th>\n",
       "      <th>Environmental Remediation Costs</th>\n",
       "      <th>Other Costs</th>\n",
       "      <th>All Costs</th>\n",
       "    </tr>\n",
       "  </thead>\n",
       "  <tbody>\n",
       "  </tbody>\n",
       "</table>\n",
       "<p>0 rows × 31 columns</p>\n",
       "</div>"
      ],
      "text/plain": [
       "Empty DataFrame\n",
       "Columns: [Report Number, Accident Year, Accident Date/Time, Operator ID, Operator Name, Pipeline/Facility Name, Pipeline Location, Pipeline Type, Liquid Type, Accident City, Accident County, Accident State, Cause Category, Cause Subcategory, Unintentional Release (Barrels), Intentional Release (Barrels), Liquid Recovery (Barrels), Net Loss (Barrels), Liquid Ignition, Liquid Explosion, Pipeline Shutdown, Shutdown Date/Time, Restart Date/Time, Public Evacuations, Property Damage Costs, Lost Commodity Costs, Public/Private Property Damage Costs, Emergency Response Costs, Environmental Remediation Costs, Other Costs, All Costs]\n",
       "Index: []\n",
       "\n",
       "[0 rows x 31 columns]"
      ]
     },
     "execution_count": 124,
     "metadata": {},
     "output_type": "execute_result"
    }
   ],
   "source": [
    "df_dups"
   ]
  },
  {
   "cell_type": "code",
   "execution_count": null,
   "id": "4cd55917",
   "metadata": {},
   "outputs": [],
   "source": [
    "df.to_csv(r'C:\\Users\\byl19\\Acheivment 6\\Acheivment 6\\02 Data\\Prepared Data\\Cleaned-Oil-Data.csv', index = False)"
   ]
  },
  {
   "cell_type": "code",
   "execution_count": null,
   "id": "99e25ac8",
   "metadata": {},
   "outputs": [],
   "source": []
  }
 ],
 "metadata": {
  "kernelspec": {
   "display_name": "Python 3 (ipykernel)",
   "language": "python",
   "name": "python3"
  },
  "language_info": {
   "codemirror_mode": {
    "name": "ipython",
    "version": 3
   },
   "file_extension": ".py",
   "mimetype": "text/x-python",
   "name": "python",
   "nbconvert_exporter": "python",
   "pygments_lexer": "ipython3",
   "version": "3.9.13"
  }
 },
 "nbformat": 4,
 "nbformat_minor": 5
}
